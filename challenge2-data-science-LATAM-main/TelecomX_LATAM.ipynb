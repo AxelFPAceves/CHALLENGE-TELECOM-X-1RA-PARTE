{
  "cells": [
    {
      "cell_type": "markdown",
      "metadata": {
        "id": "4foVEKhrlqcH"
      },
      "source": [
        "#📌 Extracción"
      ]
    },
    {
      "cell_type": "code",
      "execution_count": null,
      "metadata": {
        "id": "1--uPM88l7JH"
      },
      "outputs": [],
      "source": [
        "import pandas as pd\n",
        "\n",
        "# URL de los datos en formato JSON\n",
        "url = \"https://raw.githubusercontent.com/ingridcristh/challenge2-data-science-LATAM/main/TelecomX_Data.json\"",
        "\n",
        "# Cargar los datos en un DataFrame\n",
        "datos = pd.read_json(url)",
        "\n",
        "# Mostrar las primeras filas del DataFrame para verificar la carga\n",
        "datos.head()"
      ]
    },
    {
      "cell_type": "markdown",
      "metadata": {},
      "source": [
        "#🔧 Transformación"
      ]
    },
    {
      "cell_type": "markdown",
      "metadata": {
        "id": "custom-cell-1"
      },
      "source": [
        "### Conociendo el Conjunto de Datos\n",
        "\n",
        "Ahora que los datos han sido extraídos y cargados en un DataFrame, el siguiente paso es familiarizarnos con su estructura. Esto implica entender qué información contiene cada columna, los tipos de datos presentes y la forma general del dataset. Esta exploración inicial es crucial para planificar los pasos de limpieza y transformación."
      ]
    },
    {
      "cell_type": "markdown",
      "metadata": {
        "id": "custom-cell-2"
      },
      "source": [
        "#### Exploración de Columnas y Tipos de Datos\n",
        "\n",
        "Vamos a utilizar el método `.info()` de Pandas para obtener un resumen técnico de nuestro DataFrame. `.info()` nos dará una visión general de las columnas, la cantidad de valores no nulos y el uso de memoria."
      ]
    },
    {
      "cell_type": "code",
      "execution_count": null,
      "metadata": {
        "id": "custom-cell-3"
      },
      "outputs": [],
      "source": [
        "datos.info()"
      ]
    },
    {
      "cell_type": "markdown",
      "metadata": {
        "id": "custom-cell-4"
      },
      "source": [
        "#### Primeras Observaciones\n",
        "\n",
        "De la salida anterior, notamos algo muy importante: las columnas `customer`, `phone`, `internet`, y `account` son de tipo `object`. Al observar las primeras filas con `.head()`, vimos que contienen datos anidados, similares a un diccionario o JSON. \n",
        "\n",
        "Esto significa que una parte crucial de la fase de **Transformación** será \"desanidar\" o \"normalizar\" estas columnas para que cada pieza de información (como el género del cliente, si tiene servicio de teléfono, el tipo de contrato, etc.) se convierta en su propia columna en el DataFrame. La columna `Churn` parece ser nuestro objetivo principal para el análisis, indicando si un cliente ha cancelado el servicio o no."
      ]
    },
    {
      "cell_type": "markdown",
      "metadata": {
        "id": "dict-intro"
      },
      "source": [
        "#### Contenido del Diccionario de Datos\n",
        "\n",
        "Para facilitar la consulta, a continuación se muestra el contenido del diccionario de datos:"
      ]
    },
    {
      "cell_type": "markdown",
      "metadata": {
        "id": "dict-content"
      },
      "source": [
        "```\n",
        "- `customerID`: número de identificación único de cada cliente\n",
        "- `Churn`: si el cliente dejó o no la empresa\n",
        "- `gender`: género (masculino y femenino)\n",
        "- `SeniorCitizen`: información sobre si un cliente tiene o no una edad igual o mayor a 65 años\n",